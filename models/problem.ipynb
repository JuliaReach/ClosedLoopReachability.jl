{
 "cells": [
  {
   "cell_type": "code",
   "execution_count": null,
   "id": "69d67d24",
   "metadata": {},
   "outputs": [],
   "source": [
    "using LazySets, Plots\n",
    "using LazySets: project, Interval"
   ]
  },
  {
   "cell_type": "code",
   "execution_count": null,
   "id": "037b787f",
   "metadata": {},
   "outputs": [],
   "source": [
    "X = Interval(1.0, 2)"
   ]
  },
  {
   "cell_type": "code",
   "execution_count": null,
   "id": "ad150faf",
   "metadata": {},
   "outputs": [],
   "source": [
    "f(x) = 2*x;"
   ]
  },
  {
   "cell_type": "code",
   "execution_count": null,
   "id": "4c74eb79",
   "metadata": {},
   "outputs": [],
   "source": [
    "F(X) = Interval(f(X.dat));  # f(X)"
   ]
  },
  {
   "cell_type": "code",
   "execution_count": null,
   "id": "0d757cc7",
   "metadata": {},
   "outputs": [],
   "source": [
    "Y = cartesian_product(X, F(X))  # X × f(X)"
   ]
  },
  {
   "cell_type": "code",
   "execution_count": null,
   "id": "70fa12b2",
   "metadata": {},
   "outputs": [],
   "source": [
    "Z = LineSegment(low(Y), high(Y))  # {(x, f(x)) | x ∈ X}"
   ]
  },
  {
   "cell_type": "code",
   "execution_count": null,
   "id": "1c6a9430",
   "metadata": {},
   "outputs": [],
   "source": [
    "plot(leg=:outerright)\n",
    "plot!(Y, lab=\"X × f(X)\")\n",
    "plot!(Z, lab=\"{(x, f(x)) | x ∈ X}\")"
   ]
  },
  {
   "cell_type": "markdown",
   "id": "e7d35ab0",
   "metadata": {},
   "source": [
    " "
   ]
  },
  {
   "cell_type": "code",
   "execution_count": null,
   "id": "83c3b5a6",
   "metadata": {},
   "outputs": [],
   "source": [
    "using ReachabilityAnalysis, Polyhedra, DifferentialEquations\n",
    "const DE = DifferentialEquations;"
   ]
  },
  {
   "cell_type": "code",
   "execution_count": null,
   "id": "99bfe765",
   "metadata": {},
   "outputs": [],
   "source": [
    "A = [0.0 1; 0 0]"
   ]
  },
  {
   "cell_type": "code",
   "execution_count": null,
   "id": "b25b49a5",
   "metadata": {},
   "outputs": [],
   "source": [
    "@taylorize function dyn_nln!(dx, x, p, t)\n",
    "    dx[1] = x[2]\n",
    "    dx[2] = zero(x[2])\n",
    "    return nothing\n",
    "end;"
   ]
  },
  {
   "cell_type": "code",
   "execution_count": null,
   "id": "9616d3eb",
   "metadata": {},
   "outputs": [],
   "source": [
    "U = ZeroSet(1)\n",
    "XU = cartesian_product(X, U)\n",
    "#XU = LineSegment([1.0, 2], [2.0, 4])\n",
    "ivp_lin = @ivp(x' = A * x, x(0) ∈ XU)\n",
    "ivp_nln = @ivp(x' = dyn_nln!(x), dim: 2, x(0) ∈ XU)\n",
    "period = 0.1\n",
    "T = 0.2;\n",
    "tspan = 0.0 .. T\n",
    "cpost_lin = ReachabilityAnalysis._default_cpost(ivp_lin, tspan)\n",
    "@show cpost_lin2 = GLGM06(δ=1e-2, max_order=10, approx_model=FirstOrderZonotope())\n",
    "cpost_nln = ReachabilityAnalysis._default_cpost(ivp_nln, tspan)\n",
    "cpost_nln2 = TMJets21b(orderQ=4, orderT=3)\n",
    "steps = ceil(Int, T / period)\n",
    "lab(v) = v == 0 ? \"t\" : v == 1 ? \"x\" : \"u\";"
   ]
  },
  {
   "cell_type": "code",
   "execution_count": null,
   "id": "3234ed16",
   "metadata": {},
   "outputs": [],
   "source": [
    "controller = X -> f(X);"
   ]
  },
  {
   "cell_type": "markdown",
   "id": "8e53264c",
   "metadata": {},
   "source": [
    " "
   ]
  },
  {
   "cell_type": "code",
   "execution_count": null,
   "id": "1b520b35",
   "metadata": {},
   "outputs": [],
   "source": [
    "function _solve_ensemble(ivp, X0_samples, tspan;\n",
    "                         trajectories_alg=DE.Tsit5(),\n",
    "                         ensemble_alg=DE.EnsembleThreads(),\n",
    "                         inplace=true,\n",
    "                         kwargs...)\n",
    "    if inplace\n",
    "        field = ReachabilityAnalysis.inplace_field!(ivp)\n",
    "    else\n",
    "        field = ReachabilityAnalysis.outofplace_field(ivp)\n",
    "    end\n",
    "\n",
    "    _prob_func(prob, i, repeat) = remake(prob, u0=X0_samples[i])\n",
    "    ensemble_prob = EnsembleProblem(ODEProblem(field, first(X0_samples), tspan),\n",
    "                                    prob_func=_prob_func)\n",
    "    return DE.solve(ensemble_prob, trajectories_alg, ensemble_alg;\n",
    "                    trajectories=length(X0_samples))\n",
    "end;"
   ]
  },
  {
   "cell_type": "code",
   "execution_count": null,
   "id": "6c93bc90",
   "metadata": {},
   "outputs": [],
   "source": [
    "function simulate(ivp, controller, steps; trajectories=1, include_vertices=true)\n",
    "    X0 = project(initial_state(ivp), [1])\n",
    "    t1 = 0.0\n",
    "    \n",
    "    states = sample(X0, trajectories; include_vertices=include_vertices)\n",
    "    # println(states)\n",
    "    trajectories = length(states)\n",
    "    extended = Vector{Vector{Float64}}(undef, trajectories)\n",
    "    simulations = Vector{EnsembleSolution}(undef, steps)\n",
    "    \n",
    "    for k in 1:steps\n",
    "        # println(\"k = $k\")\n",
    "        for j in 1:trajectories\n",
    "            x0 = states[j]\n",
    "            control = controller(x0)\n",
    "            extended[j] = vcat(x0, control)\n",
    "            # println(extended[j])\n",
    "        end\n",
    "        \n",
    "        t2 = t1 + period\n",
    "        simulations[k] = _solve_ensemble(ivp, extended, (t1, t2); inplace=true)\n",
    "        \n",
    "        for j in 1:trajectories\n",
    "            ode_solution = simulations[k][j]\n",
    "            final_extended = ode_solution.u[end]\n",
    "            states[j] = final_extended[1:1]\n",
    "        end\n",
    "        t1 = t2\n",
    "    end\n",
    "    return simulations\n",
    "end;"
   ]
  },
  {
   "cell_type": "code",
   "execution_count": null,
   "id": "54cc8984",
   "metadata": {},
   "outputs": [],
   "source": [
    "function solve1(ivp, controller, steps, cpost; time_shift=false)\n",
    "    S = system(ivp)\n",
    "    XU = initial_state(ivp)\n",
    "    t = 0.0\n",
    "    \n",
    "    NT = ReachabilityAnalysis.numtype(cpost)\n",
    "    RT = rsetrep(cpost)\n",
    "    FT = Flowpipe{NT, RT, Vector{RT}}\n",
    "    out = Vector{FT}(undef, steps)\n",
    "    X0s = Vector{Hyperrectangle}(undef, steps)\n",
    "    solts = Vector(undef, steps)\n",
    "    \n",
    "    for k in 1:steps     \n",
    "        X = convert(Interval, project(XU, [1]))\n",
    "        U = convert(Interval, controller(X))  # next inputs\n",
    "        \n",
    "        X0_cont = cartesian_product(X, U)\n",
    "        X0s[k] = X0_cont\n",
    "        \n",
    "        if time_shift\n",
    "            dt = 0 .. period\n",
    "        else\n",
    "            dt = t .. t + period\n",
    "        end\n",
    "        sol = ReachabilityAnalysis.post(cpost, IVP(S, X0_cont), dt)\n",
    "        if time_shift\n",
    "            sol = shift(sol, t)\n",
    "        end\n",
    "        out[k] = sol\n",
    "        \n",
    "        t = t + period\n",
    "        XU = sol(t)\n",
    "        if XU isa TaylorModelReachSet\n",
    "            XU = evaluate(XU, t)\n",
    "        end\n",
    "        XU = set(overapproximate(XU, Zonotope))\n",
    "        solts[k] = XU\n",
    "    end\n",
    "    return MixedFlowpipe(out), X0s, solts\n",
    "end;"
   ]
  },
  {
   "cell_type": "code",
   "execution_count": null,
   "id": "7e9ded3b",
   "metadata": {},
   "outputs": [],
   "source": [
    "function solve2(ivp, controller, steps, cpost; time_shift=false)\n",
    "    S = system(ivp)\n",
    "    XU = initial_state(ivp)\n",
    "    t = 0.0\n",
    "    \n",
    "    NT = ReachabilityAnalysis.numtype(cpost)\n",
    "    RT = rsetrep(cpost)\n",
    "    FT = Flowpipe{NT, RT, Vector{RT}}\n",
    "    out = Vector{FT}(undef, steps)\n",
    "    X0s = Vector{LineSegment}(undef, steps)\n",
    "    solts = Vector(undef, steps)\n",
    "    \n",
    "    for k in 1:steps     \n",
    "        X = convert(Interval, project(XU, [1]))\n",
    "        Y = cartesian_product(X, F(X))  # X × f(X)\n",
    "        \n",
    "        X0_cont = LineSegment(low(Y), high(Y))  # {(x, f(x)) | x ∈ X}\n",
    "        println(\"X0_cont = $X0_cont\")\n",
    "        X0s[k] = X0_cont\n",
    "        \n",
    "        if time_shift\n",
    "            dt = 0 .. period\n",
    "        else\n",
    "            dt = t .. t + period\n",
    "        end\n",
    "        sol = ReachabilityAnalysis.post(cpost, IVP(S, X0_cont), dt)\n",
    "        if time_shift\n",
    "            sol = shift(sol, t)\n",
    "        end\n",
    "        out[k] = sol\n",
    "        \n",
    "        t = t + period\n",
    "        XU = sol(t)\n",
    "        println(\"XU1 = $XU\")\n",
    "        if XU isa TaylorModelReachSet\n",
    "            XU = evaluate(XU, t)\n",
    "            println(\"XU2 = $XU\")\n",
    "        end\n",
    "        XU = set(overapproximate(XU, Zonotope))\n",
    "        println(\"XU3 = $XU\")\n",
    "        solts[k] = XU\n",
    "    end\n",
    "    return MixedFlowpipe(out), X0s, solts\n",
    "end;"
   ]
  },
  {
   "cell_type": "markdown",
   "id": "b1746fff",
   "metadata": {},
   "source": [
    " "
   ]
  },
  {
   "cell_type": "code",
   "execution_count": null,
   "id": "ed55950f",
   "metadata": {},
   "outputs": [],
   "source": [
    "sim = simulate(ivp_nln, controller, steps, trajectories=100)\n",
    "S1, X0s1, solts1 = solve1(ivp_nln, controller, steps, cpost_nln2)\n",
    "S2, X0s2, solts2 = solve2(ivp_nln, controller, steps, cpost_nln2);"
   ]
  },
  {
   "cell_type": "code",
   "execution_count": null,
   "id": "eab52c45",
   "metadata": {},
   "outputs": [],
   "source": [
    "vars = (1, 2)\n",
    "fig = plot(xlab=lab(vars[1]), ylab=lab(vars[2]), leg=:outerright)\n",
    "plot!(fig, S1, vars=vars, lab=\"S1\")\n",
    "plot!(Y)\n",
    "plot!(fig, S2, vars=vars, lab=\"S2\")\n",
    "#plot!(fig, overapproximate(S1[1][end], Hyperrectangle, nsdiv=10), vars=vars, lab=\"S1-1\")\n",
    "#plot!(fig, overapproximate(S2[1][end], Hyperrectangle, nsdiv=10), vars=vars, lab=\"S2-1\")\n",
    "#plot!(fig, S1[2], vars=vars, lab=\"S1-2\")\n",
    "#plot!(fig, S2[2], vars=vars, lab=\"S2-2\")\n",
    "if 0 ∉ vars\n",
    "    plot!(fig, LineSegment([low(X, 1), low(F(X), 1)], [high(X, 1), high(F(X), 1)]), c=:yellow, lab=\"X0\")\n",
    "    plot!(fig, LineSegment([1.2, 2.4], [2.4, 4.8]), c=:orange, lab=\"X0-2\")\n",
    "end\n",
    "#plot!(X0s1[1], lab=\"X01-1\")\n",
    "#plot!(X0s2[1], lab=\"X02-1\")\n",
    "#plot!(X0s1[2], lab=\"X01-2\")\n",
    "#plot!(X0s2[2], lab=\"X02-2\")\n",
    "xl = Plots.xlims(fig)\n",
    "yl = Plots.ylims(fig)\n",
    "c = :red\n",
    "for simulation in sim\n",
    "    for piece in simulation\n",
    "        Plots.plot!(fig, piece, vars=vars, color=c, lab=\"\")\n",
    "    end\n",
    "    c = :orange\n",
    "    #break  # only show first step\n",
    "end\n",
    "Plots.xlims!(fig, xl)\n",
    "Plots.ylims!(fig, yl)\n",
    "fig"
   ]
  },
  {
   "cell_type": "markdown",
   "id": "a72201e9",
   "metadata": {},
   "source": [
    " "
   ]
  },
  {
   "cell_type": "code",
   "execution_count": null,
   "id": "f289348f",
   "metadata": {},
   "outputs": [],
   "source": [
    "S2_set = S2[1].Xk"
   ]
  },
  {
   "cell_type": "code",
   "execution_count": null,
   "id": "c58a5c04",
   "metadata": {},
   "outputs": [],
   "source": [
    "TM = evaluate.(S2_set, S2_set[1].Δt)[1]"
   ]
  },
  {
   "cell_type": "code",
   "execution_count": null,
   "id": "e66ba5e6",
   "metadata": {},
   "outputs": [],
   "source": [
    "Z1 = overapproximate(TM, Zonotope)"
   ]
  },
  {
   "cell_type": "markdown",
   "id": "7ad6d391",
   "metadata": {},
   "source": [
    " "
   ]
  },
  {
   "cell_type": "code",
   "execution_count": null,
   "id": "e4bcac99",
   "metadata": {},
   "outputs": [],
   "source": [
    "convert(Zonotope, Z)"
   ]
  },
  {
   "cell_type": "code",
   "execution_count": null,
   "id": "3f5f2ea9",
   "metadata": {
    "scrolled": true
   },
   "outputs": [],
   "source": [
    "TM2 = overapproximate(Z, TaylorModelReachSet)"
   ]
  },
  {
   "cell_type": "code",
   "execution_count": null,
   "id": "7c186778",
   "metadata": {},
   "outputs": [],
   "source": [
    "overapproximate(TM2, Zonotope)"
   ]
  },
  {
   "cell_type": "markdown",
   "id": "eaaf9599",
   "metadata": {},
   "source": [
    " "
   ]
  },
  {
   "cell_type": "code",
   "execution_count": null,
   "id": "6157ffed",
   "metadata": {},
   "outputs": [],
   "source": [
    "sim = simulate(ivp_lin, controller, steps, trajectories=100)\n",
    "S1, X0s1, solts1 = solve1(ivp_lin, controller, steps, cpost_lin2; time_shift=true)\n",
    "S2, X0s2, solts2 = solve2(ivp_lin, controller, steps, cpost_lin2; time_shift=true);"
   ]
  },
  {
   "cell_type": "code",
   "execution_count": null,
   "id": "f84ed2fd",
   "metadata": {
    "scrolled": false
   },
   "outputs": [],
   "source": [
    "vars = (1, 2)\n",
    "fig = plot(xlab=lab(vars[1]), ylab=lab(vars[2]), leg=:outerright)\n",
    "plot!(fig, S1, vars=vars, lab=\"S1\")\n",
    "plot!(Y)\n",
    "plot!(fig, S2, vars=vars, lab=\"S2\")\n",
    "#plot!(fig, S1[2], vars=vars, lab=\"S1-2\")\n",
    "#plot!(fig, S2[2], vars=vars, lab=\"S2-2\")\n",
    "if 0 ∉ vars\n",
    "    plot!(fig, LineSegment([low(X, 1), low(F(X), 1)], [high(X, 1), high(F(X), 1)]), c=:yellow, lab=\"X0\")\n",
    "    plot!(fig, LineSegment([1.2, 2.4], [2.4, 4.8]), c=:orange, lab=\"X0-2\")\n",
    "end\n",
    "#plot!(X0s1[1], lab=\"X01-1\")\n",
    "#plot!(X0s2[1], lab=\"X02-1\")\n",
    "#plot!(X0s1[2], lab=\"X01-2\")\n",
    "#plot!(X0s2[2], lab=\"X02-2\")\n",
    "xl = Plots.xlims(fig)\n",
    "yl = Plots.ylims(fig)\n",
    "c = :red\n",
    "for simulation in sim\n",
    "    for piece in simulation\n",
    "        Plots.plot!(fig, piece, vars=vars, color=c, lab=\"\")\n",
    "    end\n",
    "    c = :orange\n",
    "    #break  # only show first step\n",
    "end\n",
    "Plots.xlims!(fig, xl)\n",
    "Plots.ylims!(fig, yl)\n",
    "fig"
   ]
  },
  {
   "cell_type": "code",
   "execution_count": null,
   "id": "55228111",
   "metadata": {},
   "outputs": [],
   "source": []
  }
 ],
 "metadata": {
  "kernelspec": {
   "display_name": "Julia 1.7.3",
   "language": "julia",
   "name": "julia-1.7"
  },
  "language_info": {
   "file_extension": ".jl",
   "mimetype": "application/julia",
   "name": "julia",
   "version": "1.7.3"
  }
 },
 "nbformat": 4,
 "nbformat_minor": 5
}
