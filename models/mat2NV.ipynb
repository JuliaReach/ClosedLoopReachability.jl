{
 "cells": [
  {
   "cell_type": "code",
   "execution_count": 7,
   "metadata": {},
   "outputs": [
    {
     "data": {
      "text/plain": [
       "NeuralVerification"
      ]
     },
     "execution_count": 7,
     "metadata": {},
     "output_type": "execute_result"
    }
   ],
   "source": [
    "using NeuralVerification, MAT\n",
    "const NV = NeuralVerification"
   ]
  },
  {
   "cell_type": "code",
   "execution_count": 144,
   "metadata": {},
   "outputs": [
    {
     "data": {
      "text/plain": [
       "readnn (generic function with 2 methods)"
      ]
     },
     "execution_count": 144,
     "metadata": {},
     "output_type": "execute_result"
    }
   ],
   "source": [
    "using NeuralVerification, MAT\n",
    "using NeuralVerification: Layer, Network, ReLU, Id\n",
    "\n",
    "_vec(A::AbstractMatrix) = vec(A)\n",
    "_vec(A::Number) = [A]\n",
    "_vec(A::AbstractVector) = A\n",
    "\n",
    "function readnn(file)\n",
    "    vars = matread(file)\n",
    "    dic = vars[\"controller\"]\n",
    "\n",
    "    nLayers = Int(dic[\"number_of_layers\"])\n",
    "    layers = Vector{Layer}(undef, nLayers)\n",
    "    aF = dic[\"activation_fcns\"]\n",
    "\n",
    "    for n = 1:nLayers\n",
    "        W = dic[\"W\"][n]\n",
    "        b = dic[\"b\"][n]\n",
    "        if(aF[n] == \"relu\")\n",
    "            act = ReLU()\n",
    "        elseif(aF[n] == \"linear\")\n",
    "            act = Id()\n",
    "        else\n",
    "            error(\"error, aF = $(aF[n]), nLayer = $n\")\n",
    "        end\n",
    "        layers[n] = Layer(W, _vec(b), act)\n",
    "    end\n",
    "\n",
    "    return Network(layers)\n",
    "end"
   ]
  },
  {
   "cell_type": "code",
   "execution_count": 103,
   "metadata": {},
   "outputs": [],
   "source": [
    "dir = \"/home/sguadalupe/Documents/Julia/AI/Controllers\"\n",
    "acc3 = dir * \"/acc_controller_3_20.mat\"; ###\n",
    "acc5 = dir * \"/acc_controller_5_20.mat\"; ###\n",
    "acc7 = dir * \"/acc_controller_7_20.mat\"; ###\n",
    "acc10 = dir * \"/acc_controller_10_20.mat\"; ###\n",
    "cartpole = dir * \"/CartPole_Controller.mat\"; ###\n",
    "b7 = dir * \"/controller7.mat\"; ###\n",
    "b9 = dir * \"/controller9.mat\"; ###\n",
    "b10 = [dir * \"/controller10.mat\"; ###"
   ]
  },
  {
   "cell_type": "code",
   "execution_count": 147,
   "metadata": {},
   "outputs": [
    {
     "name": "stderr",
     "output_type": "stream",
     "text": [
      "┌ Info: Precompiling JLD2 [033835bb-8acc-5ee8-8aae-3f567f8a3819]\n",
      "└ @ Base loading.jl:1260\n"
     ]
    }
   ],
   "source": [
    "using JLD2"
   ]
  },
  {
   "cell_type": "code",
   "execution_count": 163,
   "metadata": {},
   "outputs": [],
   "source": [
    "controller = readnn(b10);"
   ]
  },
  {
   "cell_type": "code",
   "execution_count": 164,
   "metadata": {},
   "outputs": [],
   "source": [
    "@save \"Controllers/b10.jld2\" controller"
   ]
  },
  {
   "cell_type": "code",
   "execution_count": 166,
   "metadata": {},
   "outputs": [
    {
     "data": {
      "text/plain": [
       "1-element Array{Symbol,1}:\n",
       " :controller"
      ]
     },
     "execution_count": 166,
     "metadata": {},
     "output_type": "execute_result"
    }
   ],
   "source": [
    "@load \"/home/sguadalupe/Documents/Julia/AI/Controllers/acc3.jld2\""
   ]
  },
  {
   "cell_type": "code",
   "execution_count": null,
   "metadata": {},
   "outputs": [],
   "source": []
  }
 ],
 "metadata": {
  "kernelspec": {
   "display_name": "Julia 1.4.0",
   "language": "julia",
   "name": "julia-1.4"
  },
  "language_info": {
   "file_extension": ".jl",
   "mimetype": "application/julia",
   "name": "julia",
   "version": "1.4.0"
  }
 },
 "nbformat": 4,
 "nbformat_minor": 4
}
